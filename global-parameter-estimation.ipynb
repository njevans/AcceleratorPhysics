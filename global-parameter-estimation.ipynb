{
 "cells": [
  {
   "cell_type": "code",
   "execution_count": 2,
   "id": "b8d451b4",
   "metadata": {},
   "outputs": [
    {
     "name": "stdout",
     "output_type": "stream",
     "text": [
      "Functions Defined\n"
     ]
    }
   ],
   "source": [
    "import matplotlib.pyplot as plt\n",
    "import math\n",
    "import random\n",
    "\n",
    "def blX(a1,a2,g1,q1,g2,q2,f1,f2,nu2,cx,n):\n",
    "    return a1*math.exp(-g1*n*n)*math.cos(2.0*math.pi*q1*n+f1)+a2*math.exp(-g2*n*n)*math.cos(2.0*math.pi*q2*n+f2+nu2)+cx\n",
    "\n",
    "def blY(a3,a4,g1,q1,g2,q2,f1,f2,nu1,cy,n):\n",
    "    return a3*math.exp(-g1*n*n)*math.cos(2.0*math.pi*q1*n+f1+nu1)+a4*math.exp(-g2*n*n)*math.cos(2.0*math.pi*q2*n+f2)+cy\n",
    "\n",
    "def csineGQN(gamma,q,n):\n",
    "    \"\"\" Damped-Gaussian Cosine Term with tune Q=mu/2pi \"\"\"\n",
    "    return math.exp(-n*n*gamma)*math.cos(2.0*math.pi*q*n)\n",
    "    \n",
    "def sineGQN(gamma,q,n):\n",
    "    \"\"\" Damped-Gaussian Sine Term \"\"\"\n",
    "    return math.exp(-n*n*gamma)*math.sin(2.0*math.pi*q*n)\n",
    "    \n",
    "def unnormalizedCoupledVectorSubspace(g1,q1,g2,q2,nMax):\n",
    "    c1x = []\n",
    "    s1x = []\n",
    "    c2x = []\n",
    "    s2x = []\n",
    "    zx = []\n",
    "\n",
    "    for n in range(nMax):\n",
    "        c1x.append(csineGQN(g1,q1,n))\n",
    "        s1x.append(sineGQN(g1,q1,n))\n",
    "        c2x.append(csineGQN(g2,q2,n))\n",
    "        s2x.append(sineGQN(g2,q2,n))\n",
    "        zx.append(1.0)\n",
    "        \n",
    "    return [c1x,s1x,c2x,s2x,zx]\n",
    "\n",
    "def dot(v1,v2):\n",
    "    dp = 0.0\n",
    "    for i in range(len(v1)):\n",
    "        dp += v1[i]*v2[i]\n",
    "    return dp\n",
    "\n",
    "def norm(v):\n",
    "    \"\"\" Norm of vector v.\"\"\"\n",
    "    n = dot(v,v)\n",
    "    return math.sqrt(n)\n",
    "\n",
    "def project(v1,v2):\n",
    "    \"\"\"Project vector v1 onto v2.\"\"\"\n",
    "    nSq = dot(v2,v2)\n",
    "    d = dot(v1,v2)\n",
    "    p =[(d/nSq)*v2[i] for i in range(len(v2))]\n",
    "    return p\n",
    "\n",
    "def normalize(v):\n",
    "    n = norm(v)\n",
    "    return [i/n for i in v]\n",
    "    \n",
    "def gramSchmidt(v):\n",
    "    \"\"\" Gram-Schmidt. \"\"\"\n",
    "    u = []\n",
    "    u.append(v[0])\n",
    "\n",
    "    for i in range(1,len(v)):\n",
    "        thisV = v[i]\n",
    "        for j in range(i):\n",
    "            pr    = project(v[i],u[j])\n",
    "            thisV = [thisV[i]-pr[i] for i in range(len(pr))]\n",
    "        u.append(thisV)\n",
    "    \n",
    "    for i in range(len(v)):\n",
    "        e = [normalize(uu) for uu in u]\n",
    "        \n",
    "    return e\n",
    "\n",
    "def mGS(v):\n",
    "    u = v\n",
    "    n = len(v)\n",
    "    q = []\n",
    "    \n",
    "    for i in range(n):\n",
    "        q.append( normalize(v[i]) )\n",
    "        for k in range(i+1,n):\n",
    "            u[k] = vectorSubtract(u[k],project(u[k],q[i]))\n",
    "            \n",
    "    return q\n",
    "\n",
    "def vectorAdd(v1,v2):\n",
    "    return [v1[i]+v2[i] for i in range(len(v1))]\n",
    "\n",
    "def vectorSubtract(v1,v2):\n",
    "    return [v1[i]-v2[i] for i in range(len(v1))]\n",
    "    \n",
    "def errorVec(subspace,wf):\n",
    "    secondTerm = [0.0 for i in range(len(wf))]\n",
    "    \n",
    "    for i in range(len(subspace)):\n",
    "        ss = subspace[i]\n",
    "        pr = project(wf,ss) # project wf onto basis vectors\n",
    "        secondTerm = vectorAdd(secondTerm, pr)\n",
    "        \n",
    "    err = [(wf[i] - secondTerm[i]) for i in range(len(wf))]\n",
    "    return err\n",
    "print(\"Functions Defined\")"
   ]
  },
  {
   "cell_type": "code",
   "execution_count": 3,
   "id": "eeaeda50",
   "metadata": {},
   "outputs": [
    {
     "name": "stdout",
     "output_type": "stream",
     "text": [
      "Error =  1.1384874489385642e-14\n"
     ]
    },
    {
     "data": {
      "image/png": "[encoded data removed]",
      "text/plain": [
       "<Figure size 432x288 with 1 Axes>"
      ]
     },
     "metadata": {
      "needs_background": "light"
     },
     "output_type": "display_data"
    }
   ],
   "source": [
    "nMax = 60\n",
    "    \n",
    "x = []\n",
    "y = []\n",
    "\n",
    "#Global parameters\n",
    "(g1, g2) = (0.001,0.00058)\n",
    "(q1, q2) = (0.166,0.195)\n",
    "\n",
    "#Local parameters\n",
    "(a1, a2) = (1.0,1.3)\n",
    "(a3, a4) = (1.2,1.75)\n",
    "(f1, f2) = (0.0,math.pi*0.5)\n",
    "(nu1,nu2) = (math.pi*0.7,math.pi*0.2)\n",
    "(cx,cy) = (1.3,-2.4)\n",
    "\n",
    "unnorm   = unnormalizedCoupledVectorSubspace(g1,q1,g2,q2,nMax)\n",
    "subspace = gramSchmidt(unnorm)\n",
    "\n",
    "def coupledWFPt(a1,a2,g1,q1,g2,q2,f1,f2,c,n):\n",
    "    \"\"\" Works for either plane. \"\"\"\n",
    "    mode1 = a1*math.exp(-g1*n*n)*math.cos(2*math.pi*n*q1+f1) \n",
    "    mode2 = a2*math.exp(-g2*n*n)*math.cos(2*math.pi*n*q2+f2)\n",
    "    return (mode1 + mode2 +c)\n",
    "\n",
    "def randomCoupledWF(g1,q1,g2,q2,nMax):\n",
    "    \"\"\" Works for either plane. \"\"\"\n",
    "    a1 = random.random()\n",
    "    a2 = random.random()\n",
    "    f1 = math.pi*2*random.random()\n",
    "    f2 = math.pi*2*random.random()\n",
    "    c  = random.random()\n",
    "    wf = [coupledWFPt(a1,a2,g1,q1,g2,q2,f1,f2,c,n) for n in range(nMax)]\n",
    "    return wf\n",
    "\n",
    "x = randomCoupledWF(g1,q1,g2,q2,nMax)\n",
    "y = randomCoupledWF(g1,q1,g2,q2,nMax)\n",
    "    \n",
    "fig, ax = plt.subplots()\n",
    "\n",
    "ax.plot([i for i in range(len(x))], x, linewidth=2.0, color='blue')\n",
    "ax.plot([i for i in range(len(x))], y, linewidth=2.0, color='red')\n",
    "\n",
    "\n",
    "err = 0.0\n",
    "for wf in [x,y]:\n",
    "    err += norm(errorVec(subspace,wf))\n",
    "\n",
    "print(\"Error = \",err)\n"
   ]
  },
  {
   "cell_type": "code",
   "execution_count": 5,
   "id": "d60b72d4",
   "metadata": {},
   "outputs": [
    {
     "ename": "SyntaxError",
     "evalue": "invalid syntax (2899551615.py, line 9)",
     "output_type": "error",
     "traceback": [
      "\u001b[0;36m  File \u001b[0;32m\"/var/folders/s6/ms2z7_yj1yq3l0tcjp0b2nq40000gn/T/ipykernel_7824/2899551615.py\"\u001b[0;36m, line \u001b[0;32m9\u001b[0m\n\u001b[0;31m    for i in range(len(subspace)):\u001b[0m\n\u001b[0m                                 ^\u001b[0m\n\u001b[0;31mSyntaxError\u001b[0m\u001b[0;31m:\u001b[0m invalid syntax\n"
     ]
    }
   ],
   "source": [
    "unnorm   = unnormalizedCoupledVectorSubspace(g1,q1,g2,q2,nMax)\n",
    "subspace = gramSchmidt(unnorm)\n",
    "\n",
    "print(\"normality test Gram-Schmidt:\")\n",
    "for b in subspace:\n",
    "    print(\"\\t\",dot(b,b))\n",
    "    \n",
    "print(\"orthogonality test Gram-Schmidt:\"\n",
    "for i in range(len(subspace)):\n",
    "    for j in range(i+1,len(subspace)):\n",
    "        print(\"\\t\",norm(project(subspace[i],subspace[j])))\n",
    "        \n",
    "subspace = mGS(unnorm)      \n",
    "print(\"normality test modified Gram-Schmidt:\"\n",
    "for b in subspace:\n",
    "    print(\"\\t\",dot(b,b))\n",
    "    \n",
    "print(\"orthogonality test modified Gram-Schmidt:\"\n",
    "for i in range(len(subspace)):\n",
    "    for j in range(i+1,len(subspace)):\n",
    "        print(\"\\t\",norm(project(subspace[i],subspace[j])))"
   ]
  },
  {
   "cell_type": "code",
   "execution_count": 323,
   "id": "33cf0f30",
   "metadata": {},
   "outputs": [
    {
     "data": {
      "text/plain": [
       "<zip at 0x13c041280>"
      ]
     },
     "execution_count": 323,
     "metadata": {},
     "output_type": "execute_result"
    }
   ],
   "source": [
    "for i in range(10):\n",
    "    print(i)"
   ]
  },
  {
   "cell_type": "code",
   "execution_count": null,
   "id": "bce0ea3c",
   "metadata": {},
   "outputs": [],
   "source": []
  },
  {
   "cell_type": "code",
   "execution_count": 259,
   "id": "9c2c3f6d",
   "metadata": {},
   "outputs": [
    {
     "data": {
      "text/plain": [
       "10"
      ]
     },
     "execution_count": 259,
     "metadata": {},
     "output_type": "execute_result"
    }
   ],
   "source": [
    "\n"
   ]
  },
  {
   "cell_type": "code",
   "execution_count": null,
   "id": "63511550",
   "metadata": {},
   "outputs": [],
   "source": []
  }
 ],
 "metadata": {
  "kernelspec": {
   "display_name": "Python 3 (ipykernel)",
   "language": "python",
   "name": "python3"
  },
  "language_info": {
   "codemirror_mode": {
    "name": "ipython",
    "version": 3
   },
   "file_extension": ".py",
   "mimetype": "text/x-python",
   "name": "python",
   "nbconvert_exporter": "python",
   "pygments_lexer": "ipython3",
   "version": "3.9.7"
  }
 },
 "nbformat": 4,
 "nbformat_minor": 5
}
